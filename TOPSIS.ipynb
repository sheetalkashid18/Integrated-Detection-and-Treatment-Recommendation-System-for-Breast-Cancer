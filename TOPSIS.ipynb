{
 "cells": [
  {
   "cell_type": "code",
   "execution_count": 1,
   "metadata": {},
   "outputs": [],
   "source": [
    "import numpy as np\n",
    "import pandas as pd \n",
    "from sklearn import preprocessing"
   ]
  },
  {
   "cell_type": "code",
   "execution_count": 2,
   "metadata": {},
   "outputs": [],
   "source": [
    "df = pd.read_csv('C:/Users/devda/Major/Features.csv')"
   ]
  },
  {
   "cell_type": "code",
   "execution_count": 3,
   "metadata": {},
   "outputs": [],
   "source": [
    "dt = df[['ROUNDNESS', 'ACREAGE_RATIO', 'ENERGY', 'ENTROPY', 'CONTRAST_COEFFICIENT', 'TEXTURE_MEAN', 'TEXTURE_VARIANCE', 'HISTOGRAM_MEAN', 'HISTOGRAM_VARIANCE', 'HISTOGRAM_PEAK', 'HISTOGRAM_SKEW']]"
   ]
  },
  {
   "cell_type": "code",
   "execution_count": 4,
   "metadata": {},
   "outputs": [],
   "source": [
    "original = ['I', 'I', 'R', 'R', 'R', 'I', 'I', 'R', 'R', 'I', 'I', 'R', 'I', 'R', 'I', 'R', 'R', 'R', 'I', 'R', 'I', 'R', 'N', 'I', 'I', 'I', 'R', 'I', 'I', 'R', 'I', 'I', 'I', 'R', 'R', 'I', 'I', 'I', 'I', 'I', 'R', 'R', 'R', 'R', 'I', 'R', 'I', 'N', 'I', 'I', 'R', 'R', 'R', 'R', 'I', 'I', 'I', 'I', 'I', 'I', 'I', 'N', 'R', 'I', 'N', 'I', 'I', 'R', 'I', 'I', 'I', 'R', 'N', 'I', 'R', 'R', 'I', 'R', 'I', 'R', 'I', 'N', 'I', 'R', 'R', 'N', 'N', 'R', 'R', 'R', 'R', 'N', 'R', 'N', 'N', 'R', 'R', 'R', 'R', 'R', 'R', 'N', 'I', 'R', 'R', 'N', 'N', 'R', 'R', 'R', 'I', 'R', 'R', 'I', 'R', 'I', 'R', 'R', 'R']"
   ]
  },
  {
   "cell_type": "code",
   "execution_count": 5,
   "metadata": {},
   "outputs": [],
   "source": [
    "ndt=(dt-dt.min())/(dt.max()-dt.min())"
   ]
  },
  {
   "cell_type": "code",
   "execution_count": 6,
   "metadata": {
    "scrolled": true
   },
   "outputs": [
    {
     "data": {
      "text/html": [
       "<div>\n",
       "<style scoped>\n",
       "    .dataframe tbody tr th:only-of-type {\n",
       "        vertical-align: middle;\n",
       "    }\n",
       "\n",
       "    .dataframe tbody tr th {\n",
       "        vertical-align: top;\n",
       "    }\n",
       "\n",
       "    .dataframe thead th {\n",
       "        text-align: right;\n",
       "    }\n",
       "</style>\n",
       "<table border=\"1\" class=\"dataframe\">\n",
       "  <thead>\n",
       "    <tr style=\"text-align: right;\">\n",
       "      <th></th>\n",
       "      <th>ROUNDNESS</th>\n",
       "      <th>ACREAGE_RATIO</th>\n",
       "      <th>ENERGY</th>\n",
       "      <th>ENTROPY</th>\n",
       "      <th>CONTRAST_COEFFICIENT</th>\n",
       "      <th>TEXTURE_MEAN</th>\n",
       "      <th>TEXTURE_VARIANCE</th>\n",
       "      <th>HISTOGRAM_MEAN</th>\n",
       "      <th>HISTOGRAM_VARIANCE</th>\n",
       "      <th>HISTOGRAM_PEAK</th>\n",
       "      <th>HISTOGRAM_SKEW</th>\n",
       "    </tr>\n",
       "  </thead>\n",
       "  <tbody>\n",
       "    <tr>\n",
       "      <th>0</th>\n",
       "      <td>0.599662</td>\n",
       "      <td>0.544823</td>\n",
       "      <td>0.185483</td>\n",
       "      <td>0.884496</td>\n",
       "      <td>1.000000</td>\n",
       "      <td>0.187019</td>\n",
       "      <td>0.448059</td>\n",
       "      <td>1.000000</td>\n",
       "      <td>1.000000</td>\n",
       "      <td>1.000000</td>\n",
       "      <td>0.944063</td>\n",
       "    </tr>\n",
       "    <tr>\n",
       "      <th>1</th>\n",
       "      <td>0.599261</td>\n",
       "      <td>0.587326</td>\n",
       "      <td>0.254506</td>\n",
       "      <td>0.173287</td>\n",
       "      <td>0.050799</td>\n",
       "      <td>0.257858</td>\n",
       "      <td>0.578694</td>\n",
       "      <td>0.122474</td>\n",
       "      <td>0.012426</td>\n",
       "      <td>0.099862</td>\n",
       "      <td>0.592350</td>\n",
       "    </tr>\n",
       "    <tr>\n",
       "      <th>2</th>\n",
       "      <td>0.200074</td>\n",
       "      <td>0.661201</td>\n",
       "      <td>0.006060</td>\n",
       "      <td>0.002456</td>\n",
       "      <td>0.000023</td>\n",
       "      <td>0.006574</td>\n",
       "      <td>0.016784</td>\n",
       "      <td>0.022964</td>\n",
       "      <td>0.000390</td>\n",
       "      <td>0.014567</td>\n",
       "      <td>0.280819</td>\n",
       "    </tr>\n",
       "    <tr>\n",
       "      <th>3</th>\n",
       "      <td>0.175299</td>\n",
       "      <td>0.417457</td>\n",
       "      <td>0.015701</td>\n",
       "      <td>0.005485</td>\n",
       "      <td>0.000073</td>\n",
       "      <td>0.017268</td>\n",
       "      <td>0.043124</td>\n",
       "      <td>0.017191</td>\n",
       "      <td>0.000404</td>\n",
       "      <td>0.010715</td>\n",
       "      <td>0.110706</td>\n",
       "    </tr>\n",
       "    <tr>\n",
       "      <th>4</th>\n",
       "      <td>0.478084</td>\n",
       "      <td>0.456206</td>\n",
       "      <td>0.202129</td>\n",
       "      <td>0.076903</td>\n",
       "      <td>0.000705</td>\n",
       "      <td>0.214632</td>\n",
       "      <td>0.472754</td>\n",
       "      <td>0.027835</td>\n",
       "      <td>0.000713</td>\n",
       "      <td>0.019232</td>\n",
       "      <td>0.241706</td>\n",
       "    </tr>\n",
       "  </tbody>\n",
       "</table>\n",
       "</div>"
      ],
      "text/plain": [
       "   ROUNDNESS  ACREAGE_RATIO    ENERGY   ENTROPY  CONTRAST_COEFFICIENT  \\\n",
       "0   0.599662       0.544823  0.185483  0.884496              1.000000   \n",
       "1   0.599261       0.587326  0.254506  0.173287              0.050799   \n",
       "2   0.200074       0.661201  0.006060  0.002456              0.000023   \n",
       "3   0.175299       0.417457  0.015701  0.005485              0.000073   \n",
       "4   0.478084       0.456206  0.202129  0.076903              0.000705   \n",
       "\n",
       "   TEXTURE_MEAN  TEXTURE_VARIANCE  HISTOGRAM_MEAN  HISTOGRAM_VARIANCE  \\\n",
       "0      0.187019          0.448059        1.000000            1.000000   \n",
       "1      0.257858          0.578694        0.122474            0.012426   \n",
       "2      0.006574          0.016784        0.022964            0.000390   \n",
       "3      0.017268          0.043124        0.017191            0.000404   \n",
       "4      0.214632          0.472754        0.027835            0.000713   \n",
       "\n",
       "   HISTOGRAM_PEAK  HISTOGRAM_SKEW  \n",
       "0        1.000000        0.944063  \n",
       "1        0.099862        0.592350  \n",
       "2        0.014567        0.280819  \n",
       "3        0.010715        0.110706  \n",
       "4        0.019232        0.241706  "
      ]
     },
     "execution_count": 6,
     "metadata": {},
     "output_type": "execute_result"
    }
   ],
   "source": [
    "ndt.head()"
   ]
  },
  {
   "cell_type": "code",
   "execution_count": null,
   "metadata": {},
   "outputs": [],
   "source": [
    "ndt['ROUNDNESS'] = ndt['ROUNDNESS']**2\n",
    "ndt['ACREAGE_RATIO'] = ndt['ACREAGE_RATIO']**2\n",
    "ndt['ENERGY'] = ndt['ENERGY']**2\n",
    "ndt['ENTROPY'] = ndt['ENTROPY']**2\n",
    "ndt['CONTRAST_COEFFICIENT'] = ndt['CONTRAST_COEFFICIENT']**2\n",
    "ndt['TEXTURE_MEAN'] = ndt['TEXTURE_MEAN']**2\n",
    "ndt['TEXTURE_VARIANCE'] = ndt['TEXTURE_VARIANCE']**2\n",
    "ndt['HISTOGRAM_MEAN'] = ndt['HISTOGRAM_MEAN']**2\n",
    "ndt['HISTOGRAM_VARIANCE'] = ndt['HISTOGRAM_VARIANCE']**2\n",
    "ndt['HISTOGRAM_PEAK'] = ndt['HISTOGRAM_PEAK']**2\n",
    "ndt['HISTOGRAM_SKEW'] = ndt['HISTOGRAM_SKEW']**2"
   ]
  },
  {
   "cell_type": "code",
   "execution_count": null,
   "metadata": {},
   "outputs": [],
   "source": [
    "dt['R'] = dt['ROUNDNESS']**2\n",
    "dt['A'] = dt['ACREAGE_RATIO']**2\n",
    "dt['EG'] = dt['ENERGY']**2\n",
    "dt['ET'] = dt['ENTROPY']**2\n",
    "dt['C'] = dt['CONTRAST_COEFFICIENT']**2\n",
    "dt['TM'] = dt['TEXTURE_MEAN']**2\n",
    "dt['TV'] = dt['TEXTURE_VARIANCE']**2\n",
    "dt['HM'] = dt['HISTOGRAM_MEAN']**2\n",
    "dt['HV'] = dt['HISTOGRAM_VARIANCE']**2\n",
    "dt['HP'] = dt['HISTOGRAM_PEAK']**2\n",
    "dt['HS'] = dt['HISTOGRAM_SKEW']**2\n",
    "dt['ROUNDNESS'] = dt['ROUNDNESS']/ np.sqrt(dt['R'].sum())\n",
    "dt['ACREAGE_RATIO'] = dt['ACREAGE_RATIO']/ np.sqrt(dt['A'].sum())\n",
    "dt['ENERGY'] = dt['ENERGY']/ np.sqrt(dt['EG'].sum())\n",
    "dt['ENTROPY'] = dt['ENTROPY']/ np.sqrt(dt['ET'].sum())\n",
    "dt['CONTRAST_COEFFICIENT'] = dt['CONTRAST_COEFFICIENT']/ np.sqrt(dt['C'].sum())\n",
    "dt['TEXTURE_MEAN'] = dt['TEXTURE_MEAN']/ np.sqrt(dt['TM'].sum())\n",
    "dt['TEXTURE_VARIANCE'] = dt['TEXTURE_VARIANCE']/ np.sqrt(dt['TV'].sum())\n",
    "dt['HISTOGRAM_MEAN'] = dt['HISTOGRAM_MEAN']/ np.sqrt(dt['HM'].sum())\n",
    "dt['HISTOGRAM_VARIANCE'] = dt['HISTOGRAM_VARIANCE']/ np.sqrt(dt['HV'].sum())\n",
    "dt['HISTOGRAM_PEAK'] = dt['HISTOGRAM_PEAK']/ np.sqrt(dt['HP'].sum())\n",
    "dt['HISTOGRAM_SKEW'] = dt['HISTOGRAM_SKEW']/ np.sqrt(dt['HS'].sum())\n",
    "dt = dt[['ROUNDNESS', 'ACREAGE_RATIO', 'ENERGY', 'ENTROPY', 'CONTRAST_COEFFICIENT', 'TEXTURE_MEAN', 'TEXTURE_VARIANCE', 'HISTOGRAM_MEAN', 'HISTOGRAM_VARIANCE', 'HISTOGRAM_PEAK', 'HISTOGRAM_SKEW']]\n",
    "dt = dt.values"
   ]
  },
  {
   "cell_type": "code",
   "execution_count": 3,
   "metadata": {},
   "outputs": [],
   "source": [
    "weights = np.array([[6.5, 5.5, 7.5, 7.5, 4, 6.5, 6.5, 6.5, 5.5, 6.5, 5], [0, 7, 8, 8, 10, 9, 8, 7, 6, 10, 10], [10, 1, 2, 2, 1, 2, 1, 2, 1, 2, 0]])"
   ]
  },
  {
   "cell_type": "code",
   "execution_count": 4,
   "metadata": {},
   "outputs": [
    {
     "data": {
      "text/plain": [
       "array([[ 6.5,  5.5,  7.5,  7.5,  4. ,  6.5,  6.5,  6.5,  5.5,  6.5,  5. ],\n",
       "       [ 0. ,  7. ,  8. ,  8. , 10. ,  9. ,  8. ,  7. ,  6. , 10. , 10. ],\n",
       "       [10. ,  1. ,  2. ,  2. ,  1. ,  2. ,  1. ,  2. ,  1. ,  2. ,  0. ]])"
      ]
     },
     "execution_count": 4,
     "metadata": {},
     "output_type": "execute_result"
    }
   ],
   "source": [
    "weights"
   ]
  },
  {
   "cell_type": "code",
   "execution_count": null,
   "metadata": {},
   "outputs": [],
   "source": [
    "weights2 = np.array([[6.5, 5.5, 7.5, 7.5, 4, 6.5, 6.5, 6.5, 5.5, 6.5, 5], [0, 7, 8, 8, 10, 9, 8, 7, 6, 10, 10]])"
   ]
  },
  {
   "cell_type": "code",
   "execution_count": null,
   "metadata": {
    "scrolled": true
   },
   "outputs": [],
   "source": [
    "weightst = weights/10"
   ]
  },
  {
   "cell_type": "code",
   "execution_count": null,
   "metadata": {},
   "outputs": [],
   "source": [
    "weightst = np.array([[0.65, 0.55, 0.75, 0.75, 0.4 , 0.65, 0.65, 0.65, 0.55, 0.65, 0.5 ],\n",
    "       [0.  , 0.7 , 0.8 , 0.8 , 1.  , 0.9 , 0.8 , 0.7 , 0.6 , 1.  , 1.  ],\n",
    "       [1.  , 0.1 , 0.2 , 0.2 , 0.1 , 0.2 , 0.1 , 0.2 , 0.1 , 0.2 , 0.  ]])"
   ]
  },
  {
   "cell_type": "code",
   "execution_count": null,
   "metadata": {},
   "outputs": [],
   "source": [
    "weightst=(weightst-weightst.min(axis=0))/(weightst.max(axis=0)-weightst.min(axis=0))"
   ]
  },
  {
   "cell_type": "code",
   "execution_count": null,
   "metadata": {},
   "outputs": [],
   "source": [
    "weightst.shape"
   ]
  },
  {
   "cell_type": "code",
   "execution_count": null,
   "metadata": {},
   "outputs": [],
   "source": [
    "normal_weights=np.array([[0.54, 0.62, 0.67, 0.67, 0.36, 0.57, 0.62, 0.66, 0.67, 0.53, 0.44], [0, 0.86, 0.72, 0.72, 0.92, 0.79, 0.77, 0.71, 0.73, 0.82, 0.89], [0.84, 0.11, 0.18, 0.18, 0.09, 0.17, 0.09, 0.2, 0.12, 0.16, 0]])"
   ]
  },
  {
   "cell_type": "code",
   "execution_count": 5,
   "metadata": {},
   "outputs": [],
   "source": [
    "#CORRECT DO NOT TOUCH\n",
    "normal_weightsc=np.array([[0.6, 0.7, 0.7, 0.7, 0.4, 0.6, 0.7, 0.7, 0.7, 0.6, 0.5], [0, 0.86, 0.72, 0.72, 0.92, 0.79, 0.77, 0.71, 0.73, 0.82, 0.89], [0.84, 0.11, 0.18, 0.18, 0.09, 0.17, 0.09, 0.2, 0.12, 0.16, 0]])"
   ]
  },
  {
   "cell_type": "code",
   "execution_count": 6,
   "metadata": {},
   "outputs": [
    {
     "data": {
      "text/plain": [
       "array([[0.6 , 0.7 , 0.7 , 0.7 , 0.4 , 0.6 , 0.7 , 0.7 , 0.7 , 0.6 , 0.5 ],\n",
       "       [0.  , 0.86, 0.72, 0.72, 0.92, 0.79, 0.77, 0.71, 0.73, 0.82, 0.89],\n",
       "       [0.84, 0.11, 0.18, 0.18, 0.09, 0.17, 0.09, 0.2 , 0.12, 0.16, 0.  ]])"
      ]
     },
     "execution_count": 6,
     "metadata": {},
     "output_type": "execute_result"
    }
   ],
   "source": [
    "normal_weightsc"
   ]
  },
  {
   "cell_type": "code",
   "execution_count": null,
   "metadata": {},
   "outputs": [],
   "source": [
    "#ALSO CORRECT DO NOT TOUCH\n",
    "normal_weightscc=np.array([[0.5, 0.8, 0.6, 0.8, 0.3, 0.7, 0.6, 0.8, 0.6, 0.7, 0.4], [0.1, 0.76, 0.82, 0.62, 1, 0.69, 0.87, 0.61, 0.83, 0.72, 0.99], [0.84, 0.11, 0.18, 0.18, 0.09, 0.17, 0.09, 0.2, 0.12, 0.16, 0]])"
   ]
  },
  {
   "cell_type": "code",
   "execution_count": null,
   "metadata": {},
   "outputs": [],
   "source": [
    "normal_weightst=np.array([[0.8, 0.8, 0.7, 0.4, 0.6, 0.7, 0.7, 0.4, 0.9, 0.7, 0.5], [0.1, 1, 0.52, 0.62, 0.92, 1, 0.57, 0.61, 0.73, 1, 0.69], [0.84, 0.11, 0.18, 0.18, 0.09, 0.17, 0.09, 0.2, 0.12, 0.16, 0]])"
   ]
  },
  {
   "cell_type": "code",
   "execution_count": null,
   "metadata": {},
   "outputs": [],
   "source": [
    "normal_weights2 = np.array([[1, 0.62, 0.68, 0.68, 0.37, 0.58, 0.63, 0.68, 0.67, 0.54, 0.45], [0, 0.79, 0.72, 0.72, 0.92, 0.81, 0.77, 0.73, 0.74, 0.83, 0.89]])"
   ]
  },
  {
   "cell_type": "code",
   "execution_count": null,
   "metadata": {},
   "outputs": [],
   "source": [
    "weightst=np.array([[0.74, 0.01, 0.08, 0.08, 0.08, 0.07, 0.08, 0.1, 0.02, 0.06, 0], [0.94, 0.21, 0.28, 0.28, 0.19, 0.27, 0.19, 0.3, 0.22, 0.26, 0.1], [0.84, 0.11, 0.18, 0.18, 0.09, 0.17, 0.09, 0.2, 0.12, 0.16, 0]])"
   ]
  },
  {
   "cell_type": "code",
   "execution_count": null,
   "metadata": {},
   "outputs": [],
   "source": []
  },
  {
   "cell_type": "code",
   "execution_count": 8,
   "metadata": {},
   "outputs": [],
   "source": [
    "ndt = ndt.values"
   ]
  },
  {
   "cell_type": "code",
   "execution_count": null,
   "metadata": {},
   "outputs": [],
   "source": [
    "treatment = []\n",
    "for i in range(ndt.shape[0]):\n",
    "    a = normal_weights\n",
    "    for j in range(a.shape[0]):\n",
    "        a[j]=np.multiply(ndt[i], a[j])\n",
    "    dist = [0] * 3\n",
    "    for h in range(3):\n",
    "        for k in range(11):\n",
    "            dist[h] = dist[h] + a[h, k]\n",
    "        dist[h] = np.sqrt(dist[h])\n",
    "    if dist.index(min(dist))==0:\n",
    "        treatment.append('R')\n",
    "    elif dist.index(min(dist))==1:\n",
    "        treatment.append('I')\n",
    "    elif dist.index(min(dist))==2:\n",
    "        treatment.append('N')"
   ]
  },
  {
   "cell_type": "code",
   "execution_count": null,
   "metadata": {},
   "outputs": [],
   "source": [
    "#66\n",
    "treatment = []\n",
    "for i in range(ndt.shape[0]):\n",
    "    a = weightst\n",
    "    for h in range(a.shape[0]-1):\n",
    "        a[h] = np.subtract(ndt[i], a[h])\n",
    "    a = np.multiply(a, a)\n",
    "    dist = [0] * 2\n",
    "    for p in range(a.shape[0]-1):\n",
    "        summ = 0\n",
    "        for q in range(a.shape[1]):\n",
    "            summ=summ+a[p, q]\n",
    "        dist[p] = summ\n",
    "    for r in range(2):\n",
    "        dist[r] = np.sqrt(dist[r])\n",
    "    if dist.index(min(dist))==0:\n",
    "        treatment.append('R')\n",
    "    elif dist.index(min(dist))==1:\n",
    "        treatment.append('I')\n",
    "    #elif dist.index(min(dist))==2:\n",
    "        #treatment.append('N')"
   ]
  },
  {
   "cell_type": "code",
   "execution_count": 9,
   "metadata": {},
   "outputs": [],
   "source": [
    "#66\n",
    "treatment1 = []\n",
    "treatment2 = []\n",
    "for i in range(ndt.shape[0]):\n",
    "    a = normal_weightsc\n",
    "    for h in range(a.shape[0]):\n",
    "        a[h] = np.subtract(ndt[i], a[h])\n",
    "    a = np.multiply(a, a)\n",
    "    dist = [0] * 3\n",
    "    for p in range(a.shape[0]):\n",
    "        summ = 0\n",
    "        for q in range(a.shape[1]):\n",
    "            summ=summ+a[p, q]\n",
    "        dist[p] = summ\n",
    "    for r in range(3):\n",
    "        dist[r] = np.sqrt(dist[r])\n",
    "    if dist.index(min(dist))==0:\n",
    "        treatment1.append('R')\n",
    "        if dist.index(max(dist))==1:\n",
    "            treatment2.append('N')\n",
    "        elif dist.index(max(dist))==2:\n",
    "            treatment2.append('I')\n",
    "    elif dist.index(min(dist))==1:\n",
    "        treatment1.append('I')\n",
    "        if dist.index(max(dist))==0:\n",
    "            treatment2.append('N')\n",
    "        elif dist.index(max(dist))==2:\n",
    "            treatment2.append('R')\n",
    "    elif dist.index(min(dist))==2:\n",
    "        treatment1.append('N')\n",
    "        if dist.index(max(dist))==0:\n",
    "            treatment2.append('I')\n",
    "        elif dist.index(max(dist))==1:\n",
    "            treatment2.append('R')"
   ]
  },
  {
   "cell_type": "code",
   "execution_count": 10,
   "metadata": {},
   "outputs": [],
   "source": [
    "count = 0\n",
    "for i in range(len(original)):\n",
    "    if treatment1[i]!=original[i] and treatment2[i]!=original[i]:\n",
    "        count = count+1"
   ]
  },
  {
   "cell_type": "code",
   "execution_count": 11,
   "metadata": {
    "scrolled": true
   },
   "outputs": [
    {
     "data": {
      "text/plain": [
       "22"
      ]
     },
     "execution_count": 11,
     "metadata": {},
     "output_type": "execute_result"
    }
   ],
   "source": [
    "count"
   ]
  },
  {
   "cell_type": "code",
   "execution_count": null,
   "metadata": {},
   "outputs": [],
   "source": []
  },
  {
   "cell_type": "code",
   "execution_count": null,
   "metadata": {},
   "outputs": [],
   "source": [
    "#66\n",
    "treatment = []\n",
    "for i in range(ndt.shape[0]):\n",
    "    a = normal_weights2\n",
    "    for h in range(a.shape[0]-1):\n",
    "        a[h] = np.subtract(ndt[i], a[h])\n",
    "    a = a**2\n",
    "    dist = [0] * 2\n",
    "    for p in range(a.shape[0]-1):\n",
    "        summ = 0\n",
    "        for q in range(a.shape[1]):\n",
    "            summ=summ+a[p, q]\n",
    "        dist[p] = summ\n",
    "    for r in range(2):\n",
    "        dist[r] = np.sqrt(dist[r])\n",
    "    if dist.index(min(dist))==0:\n",
    "        treatment.append('R')\n",
    "    elif dist.index(min(dist))==1:\n",
    "        treatment.append('I')\n",
    "    #elif dist.index(min(dist))==2:\n",
    "        #treatment.append('N')"
   ]
  },
  {
   "cell_type": "code",
   "execution_count": null,
   "metadata": {},
   "outputs": [],
   "source": [
    "original.count('I')"
   ]
  },
  {
   "cell_type": "code",
   "execution_count": null,
   "metadata": {},
   "outputs": [],
   "source": [
    "119-count"
   ]
  },
  {
   "cell_type": "code",
   "execution_count": null,
   "metadata": {},
   "outputs": [],
   "source": [
    "dff = df[['REFNUM', 'SEVERITY']]\n",
    "dff['TREATMENT'] = treatment\n",
    "dff.head(50)"
   ]
  },
  {
   "cell_type": "code",
   "execution_count": null,
   "metadata": {},
   "outputs": [],
   "source": [
    "dff.to_csv('Result.csv') "
   ]
  },
  {
   "cell_type": "code",
   "execution_count": null,
   "metadata": {},
   "outputs": [],
   "source": []
  }
 ],
 "metadata": {
  "kernelspec": {
   "display_name": "Python 3",
   "language": "python",
   "name": "python3"
  },
  "language_info": {
   "codemirror_mode": {
    "name": "ipython",
    "version": 3
   },
   "file_extension": ".py",
   "mimetype": "text/x-python",
   "name": "python",
   "nbconvert_exporter": "python",
   "pygments_lexer": "ipython3",
   "version": "3.7.5"
  }
 },
 "nbformat": 4,
 "nbformat_minor": 4
}
