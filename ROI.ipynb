{
 "cells": [
  {
   "cell_type": "code",
   "execution_count": 1,
   "metadata": {},
   "outputs": [],
   "source": [
    "import os\n",
    "import numpy as np\n",
    "import matplotlib.pyplot as plt\n",
    "import matplotlib.image as mpimg\n",
    "import cv2\n",
    "import glob\n",
    "from PIL import Image, ImageFilter, ImageOps"
   ]
  },
  {
   "cell_type": "code",
   "execution_count": 2,
   "metadata": {},
   "outputs": [],
   "source": [
    "images = [cv2.imread(file) for file in glob.glob(\"C:/Users/devda/Major/Data/all-mias/JPEG/Preprocessed/*.jpg\")]"
   ]
  },
  {
   "cell_type": "code",
   "execution_count": 3,
   "metadata": {},
   "outputs": [],
   "source": [
    "#Convert to Grayscale\n",
    "for i in range(322):\n",
    "    images[i] = cv2.cvtColor(images[i], cv2.COLOR_BGR2GRAY)"
   ]
  },
  {
   "cell_type": "code",
   "execution_count": 4,
   "metadata": {},
   "outputs": [],
   "source": [
    "#Thresholding\n",
    "ret = [0] * 322\n",
    "thresh = [0] * 322\n",
    "for i in range(322):\n",
    "    ret[i], thresh[i] = cv2.threshold(images[i], 10, 255, cv2.THRESH_BINARY)"
   ]
  },
  {
   "cell_type": "code",
   "execution_count": 5,
   "metadata": {},
   "outputs": [],
   "source": [
    "#Identifying the orientation of mammogram\n",
    "f = [0] * 322\n",
    "for i in range(322):\n",
    "    t = 1\n",
    "    for j in range(int(len(images[i])/3)):\n",
    "        if thresh[i][80, j] > 0:\n",
    "            for c in range(j+1, j+21):\n",
    "                t = 0 \n",
    "                if thresh[i][80, c] < 1:\n",
    "                    t = 1\n",
    "                    break\n",
    "        if t == 0:\n",
    "            break\n",
    "    if t == 1:\n",
    "        f[i] = 'Right'\n",
    "    elif t == 0:\n",
    "        f[i] = 'Left'"
   ]
  },
  {
   "cell_type": "code",
   "execution_count": 6,
   "metadata": {
    "scrolled": true
   },
   "outputs": [
    {
     "name": "stdout",
     "output_type": "stream",
     "text": [
      "1\n"
     ]
    }
   ],
   "source": [
    "#Error for flipping\n",
    "count = 0\n",
    "for i in range(322):\n",
    "    if i%2==0 and f[i]!='Right':\n",
    "        count = count + 1\n",
    "        #print(i)\n",
    "    if i%2==1 and f[i]!='Left':\n",
    "        count = count + 1\n",
    "        #print(i)\n",
    "print(count)"
   ]
  },
  {
   "cell_type": "code",
   "execution_count": 7,
   "metadata": {},
   "outputs": [],
   "source": [
    "#Flipping\n",
    "flipped = [0] * 322\n",
    "for i in range(322):\n",
    "    flipped[i] = images[i].copy()\n",
    "    if f[i] == 'Right':\n",
    "        flipped[i] = cv2.flip(flipped[i], 1)"
   ]
  },
  {
   "cell_type": "code",
   "execution_count": 8,
   "metadata": {},
   "outputs": [],
   "source": [
    "#Crop\n",
    "cropped = [0] * 322\n",
    "for i in range(322):\n",
    "    for j in range(int(len(flipped[i])/2)):\n",
    "        if flipped[i][100, j] > 0:\n",
    "            break\n",
    "    cropped[i] = flipped[i][0:len(flipped[i]), j:len(flipped[i])]"
   ]
  },
  {
   "cell_type": "code",
   "execution_count": 10,
   "metadata": {},
   "outputs": [],
   "source": [
    "#Pectoral muscle removal\n",
    "for k in range(322):\n",
    "    my = [0] * 300\n",
    "    T = cropped[k].max()\n",
    "    for i in range(300):\n",
    "        for j in range(5, cropped[k].shape[0]):\n",
    "            if cropped[k][i, j] >= T/2:\n",
    "                continue\n",
    "            if cropped[k][i, j] < T/2:\n",
    "                m = j\n",
    "                break\n",
    "        my[i] = m\n",
    "    mx = [0] * 300\n",
    "    for j in range(300):\n",
    "        for i in range(5, cropped[k].shape[0]):\n",
    "            if cropped[k][i, j] >= T/2:\n",
    "                continue\n",
    "            if cropped[k][i, j] < T/2:\n",
    "                m = i\n",
    "                break\n",
    "        mx[j] = m\n",
    "    z = max(my)\n",
    "    for i in range(max(mx)):\n",
    "        for j in range(z):\n",
    "            if cropped[k][i, j] >= T/2 and j < z:\n",
    "                cropped[k][i, j] = 0\n",
    "            if cropped[k][i, j] < T/2:\n",
    "                if cropped[k][i, j+1] < T/2:\n",
    "                    if cropped[k][i, j+2] < T/2:\n",
    "                        if cropped[k][i, j+3] < T/2:\n",
    "                            z = j"
   ]
  },
  {
   "cell_type": "code",
   "execution_count": 11,
   "metadata": {},
   "outputs": [],
   "source": [
    "#Padding\n",
    "padded = [0] * 322\n",
    "color = [0, 0, 0]\n",
    "for i in range(322):\n",
    "    l = 1024 - cropped[i].shape[1]\n",
    "    padded[i] = cv2.copyMakeBorder(cropped[i], 0, 0, l, 0, cv2.BORDER_CONSTANT, value=color)"
   ]
  },
  {
   "cell_type": "code",
   "execution_count": 12,
   "metadata": {},
   "outputs": [],
   "source": [
    "#Flipping back\n",
    "final = [0] * 322\n",
    "for i in range(322):\n",
    "    final[i] = padded[i].copy()\n",
    "    if f[i] == 'Right':\n",
    "        final[i] = cv2.flip(final[i], 1)"
   ]
  },
  {
   "cell_type": "code",
   "execution_count": 13,
   "metadata": {},
   "outputs": [],
   "source": [
    "#Saving files\n",
    "os.mkdir('WOPectoralNewNew')\n",
    "for i in range(322):\n",
    "    cv2.imwrite(\"WOPectoralNewNew/sample%03i.jpg\" %(i+1), final[i])"
   ]
  },
  {
   "cell_type": "code",
   "execution_count": null,
   "metadata": {},
   "outputs": [],
   "source": [
    "#Pectoral muscle removal\n",
    "for i in range(322):\n",
    "    for j in range(5, cropped[i].shape[0]):\n",
    "        if cropped[i][j, 5] >= 200:\n",
    "            continue\n",
    "        if cropped[i][j, 5] < 200:\n",
    "            x = j\n",
    "            break\n",
    "    for j in range(5, cropped[i].shape[1]):\n",
    "        if cropped[i][5, j] >= 150:\n",
    "            continue\n",
    "        if cropped[i][5, j] < 150:\n",
    "            y = j\n",
    "            break\n",
    "    cv2.line(cropped[i], (y, 0), (0, x), (0, 0, 0), thickness=10, lineType=8)\n",
    "    for h in range(x):\n",
    "        for k in range(y):\n",
    "            cropped[i][h, k] = 0\n",
    "            if cropped[i][h, k+1] == 0:\n",
    "                if cropped[i][h, k+2] == 0:\n",
    "                    if cropped[i][h, k+3] == 0:\n",
    "                        break"
   ]
  },
  {
   "cell_type": "code",
   "execution_count": null,
   "metadata": {},
   "outputs": [],
   "source": []
  }
 ],
 "metadata": {
  "kernelspec": {
   "display_name": "Python 3",
   "language": "python",
   "name": "python3"
  },
  "language_info": {
   "codemirror_mode": {
    "name": "ipython",
    "version": 3
   },
   "file_extension": ".py",
   "mimetype": "text/x-python",
   "name": "python",
   "nbconvert_exporter": "python",
   "pygments_lexer": "ipython3",
   "version": "3.7.5"
  }
 },
 "nbformat": 4,
 "nbformat_minor": 2
}
